{
 "cells": [
  {
   "cell_type": "code",
   "execution_count": 1,
   "id": "ffc29425-a1bb-46dd-9360-64a7cb45d899",
   "metadata": {},
   "outputs": [
    {
     "name": "stdout",
     "output_type": "stream",
     "text": [
      "Hello World\n"
     ]
    }
   ],
   "source": [
    "print(\"Hello World\")"
   ]
  },
  {
   "cell_type": "code",
   "execution_count": null,
   "id": "29246c79-dee0-4617-b7b2-76e9b1853289",
   "metadata": {},
   "outputs": [],
   "source": [
    "Creating a Series"
   ]
  },
  {
   "cell_type": "code",
   "execution_count": 3,
   "id": "6efc7303-c631-491f-af15-1591af2eb774",
   "metadata": {},
   "outputs": [
    {
     "name": "stdout",
     "output_type": "stream",
     "text": [
      "0    10\n",
      "1    20\n",
      "2    30\n",
      "3    40\n",
      "dtype: int64\n"
     ]
    }
   ],
   "source": [
    "import pandas as pd\n",
    "\n",
    "data=[10,20,30,40]\n",
    "v=pd.Series(data)\n",
    "print(v)"
   ]
  },
  {
   "cell_type": "code",
   "execution_count": null,
   "id": "8850ad02-10c0-42b7-8d54-94dfb9f155d4",
   "metadata": {},
   "outputs": [],
   "source": [
    "Creating a DataFrame"
   ]
  },
  {
   "cell_type": "code",
   "execution_count": 15,
   "id": "5e465783-3fa3-450e-9de8-a7a2d181522a",
   "metadata": {},
   "outputs": [
    {
     "name": "stdout",
     "output_type": "stream",
     "text": [
      "   student  Roll No  calss\n",
      "0  Goutham        1      1\n",
      "1    pavan        2      2\n",
      "2    akash        3      3\n"
     ]
    }
   ],
   "source": [
    "data={\n",
    "    'student':[\"Goutham\",\"pavan\",\"akash\"],\n",
    "    'Roll No':[1,2,3],\n",
    "    'calss':[1,2,3],\n",
    "}\n",
    "df=pd.DataFrame(data)\n",
    "print(df)"
   ]
  },
  {
   "cell_type": "code",
   "execution_count": null,
   "id": "943995cb-0daf-4ee1-91ab-4a69159cb100",
   "metadata": {},
   "outputs": [],
   "source": []
  }
 ],
 "metadata": {
  "kernelspec": {
   "display_name": "Python 3 (ipykernel)",
   "language": "python",
   "name": "python3"
  },
  "language_info": {
   "codemirror_mode": {
    "name": "ipython",
    "version": 3
   },
   "file_extension": ".py",
   "mimetype": "text/x-python",
   "name": "python",
   "nbconvert_exporter": "python",
   "pygments_lexer": "ipython3",
   "version": "3.12.4"
  }
 },
 "nbformat": 4,
 "nbformat_minor": 5
}
