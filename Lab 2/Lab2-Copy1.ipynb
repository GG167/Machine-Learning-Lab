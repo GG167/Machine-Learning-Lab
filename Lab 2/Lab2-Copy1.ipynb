{
 "cells": [
  {
   "cell_type": "code",
   "execution_count": null,
   "id": "beffa187-c810-4042-9cf4-098beb6b0cc3",
   "metadata": {},
   "outputs": [],
   "source": [
    "1.Read top five values"
   ]
  },
  {
   "cell_type": "code",
   "execution_count": 7,
   "id": "50e30f8c-d13b-4211-b21d-4f863cdcdbed",
   "metadata": {},
   "outputs": [
    {
     "name": "stdout",
     "output_type": "stream",
     "text": [
      "    Manufacturer              Model  Sales in thousands 4-year resale value  \\\n",
      "0  Acura          Integra                        16.919               16.36   \n",
      "1  Acura          TL                             39.384              19.875   \n",
      "2  Acura          CL                             14.114              18.225   \n",
      "3  Acura          RL                              8.588              29.725   \n",
      "4  Audi           A4                             20.397              22.255   \n",
      "\n",
      "  Vehicle type Price in thousands Engine size Horsepower Wheelbase Width  \\\n",
      "0    Passenger               21.5         1.8        140     101.2  67.3   \n",
      "1    Passenger               28.4         3.2        225     108.1  70.3   \n",
      "2    Passenger                  .         3.2        225     106.9  70.6   \n",
      "3    Passenger                 42         3.5        210     114.6  71.4   \n",
      "4    Passenger              23.99         1.8        150     102.6  68.2   \n",
      "\n",
      "  Length Curb weight Fuel capacity Fuel efficiency Latest Launch  \n",
      "0  172.4       2.639          13.2              28      2-Feb-14  \n",
      "1  192.9       3.517          17.2              25      6-Mar-15  \n",
      "2    192        3.47          17.2              26      1-Apr-14  \n",
      "3  196.6        3.85            18              22      3-Oct-15  \n",
      "4    178       2.998          16.4              27     10-Aug-15  \n"
     ]
    }
   ],
   "source": [
    "import pandas as pd\n",
    "df=pd.read_csv(\"Car_sales.csv\")\n",
    "print(df.head())"
   ]
  },
  {
   "cell_type": "code",
   "execution_count": null,
   "id": "f374b2b6-2d42-4727-8a53-5b2f38a472ac",
   "metadata": {},
   "outputs": [],
   "source": [
    "2.Print dataframe info_data types of each column"
   ]
  },
  {
   "cell_type": "code",
   "execution_count": 8,
   "id": "bc81615e-1e92-4d33-ba74-f16b03c809fa",
   "metadata": {},
   "outputs": [
    {
     "name": "stdout",
     "output_type": "stream",
     "text": [
      "<class 'pandas.core.frame.DataFrame'>\n",
      "RangeIndex: 157 entries, 0 to 156\n",
      "Data columns (total 15 columns):\n",
      " #   Column               Non-Null Count  Dtype  \n",
      "---  ------               --------------  -----  \n",
      " 0   Manufacturer         157 non-null    object \n",
      " 1   Model                157 non-null    object \n",
      " 2   Sales in thousands   157 non-null    float64\n",
      " 3   4-year resale value  157 non-null    object \n",
      " 4   Vehicle type         157 non-null    object \n",
      " 5   Price in thousands   157 non-null    object \n",
      " 6   Engine size          157 non-null    object \n",
      " 7   Horsepower           157 non-null    object \n",
      " 8   Wheelbase            157 non-null    object \n",
      " 9   Width                157 non-null    object \n",
      " 10  Length               157 non-null    object \n",
      " 11  Curb weight          157 non-null    object \n",
      " 12  Fuel capacity        157 non-null    object \n",
      " 13  Fuel efficiency      157 non-null    object \n",
      " 14  Latest Launch        157 non-null    object \n",
      "dtypes: float64(1), object(14)\n",
      "memory usage: 18.5+ KB\n",
      "None\n"
     ]
    }
   ],
   "source": [
    "print(df.info())"
   ]
  },
  {
   "cell_type": "code",
   "execution_count": null,
   "id": "da9adb64-3ca8-4e87-a7eb-2f1b2c86facf",
   "metadata": {},
   "outputs": [],
   "source": [
    "3.Print number of rows and columns"
   ]
  },
  {
   "cell_type": "code",
   "execution_count": 13,
   "id": "bb319a87-3c8b-450b-b31d-ff59cbb20e0f",
   "metadata": {},
   "outputs": [
    {
     "name": "stdout",
     "output_type": "stream",
     "text": [
      "num of rows = 157\n",
      "num of col = 15\n"
     ]
    }
   ],
   "source": [
    "num_rows=df.shape[0]\n",
    "print(\"num of rows =\",num_rows)\n",
    "\n",
    "num_col=df.shape[1]\n",
    "print(\"num of col =\",num_col)"
   ]
  },
  {
   "cell_type": "code",
   "execution_count": 12,
   "id": "7c54d1bc-8d0a-4066-9104-1bdb87d50745",
   "metadata": {},
   "outputs": [
    {
     "name": "stdout",
     "output_type": "stream",
     "text": [
      "(157, 15)\n"
     ]
    }
   ],
   "source": [
    "print(df.shape)"
   ]
  },
  {
   "cell_type": "code",
   "execution_count": 14,
   "id": "5ab81cdc-970c-4204-9274-c41f53e2ba99",
   "metadata": {},
   "outputs": [
    {
     "name": "stdout",
     "output_type": "stream",
     "text": [
      "157\n",
      "15\n"
     ]
    }
   ],
   "source": [
    "df.drop_duplicates()\n",
    "print(df.shape[0])\n",
    "print(df.shape[1])"
   ]
  },
  {
   "cell_type": "code",
   "execution_count": 15,
   "id": "6e98e7f0-b985-4230-894e-f5d52d55b41a",
   "metadata": {},
   "outputs": [
    {
     "name": "stdout",
     "output_type": "stream",
     "text": [
      "<bound method NDFrame.describe of       Manufacturer              Model  Sales in thousands 4-year resale value  \\\n",
      "0    Acura          Integra                        16.919               16.36   \n",
      "1    Acura          TL                             39.384              19.875   \n",
      "2    Acura          CL                             14.114              18.225   \n",
      "3    Acura          RL                              8.588              29.725   \n",
      "4    Audi           A4                             20.397              22.255   \n",
      "..             ...                ...                 ...                 ...   \n",
      "152  Volvo          V40                             3.545                   .   \n",
      "153  Volvo          S70                            15.245                   .   \n",
      "154  Volvo          V70                            17.531                   .   \n",
      "155  Volvo          C70                             3.493                   .   \n",
      "156  Volvo          S80                            18.969                   .   \n",
      "\n",
      "    Vehicle type Price in thousands Engine size Horsepower Wheelbase Width  \\\n",
      "0      Passenger               21.5         1.8        140     101.2  67.3   \n",
      "1      Passenger               28.4         3.2        225     108.1  70.3   \n",
      "2      Passenger                  .         3.2        225     106.9  70.6   \n",
      "3      Passenger                 42         3.5        210     114.6  71.4   \n",
      "4      Passenger              23.99         1.8        150     102.6  68.2   \n",
      "..           ...                ...         ...        ...       ...   ...   \n",
      "152    Passenger               24.4         1.9        160     100.5  67.6   \n",
      "153    Passenger               27.5         2.4        168     104.9  69.3   \n",
      "154    Passenger               28.8         2.4        168     104.9  69.3   \n",
      "155    Passenger               45.5         2.3        236     104.9  71.5   \n",
      "156    Passenger                 36         2.9        201     109.9  72.1   \n",
      "\n",
      "    Length Curb weight Fuel capacity Fuel efficiency Latest Launch  \n",
      "0    172.4       2.639          13.2              28      2-Feb-14  \n",
      "1    192.9       3.517          17.2              25      6-Mar-15  \n",
      "2      192        3.47          17.2              26      1-Apr-14  \n",
      "3    196.6        3.85            18              22      3-Oct-15  \n",
      "4      178       2.998          16.4              27     10-Aug-15  \n",
      "..     ...         ...           ...             ...           ...  \n",
      "152  176.6       3.042          15.8              25     21-Sep-15  \n",
      "153  185.9       3.208          17.9              25     24-Nov-14  \n",
      "154  186.2       3.259          17.9              25     25-Jun-15  \n",
      "155  185.7       3.601          18.5              23     26-Apr-15  \n",
      "156  189.8         3.6          21.1              24     14-Nov-15  \n",
      "\n",
      "[157 rows x 15 columns]>\n"
     ]
    }
   ],
   "source": [
    "print(df.describe)"
   ]
  },
  {
   "cell_type": "code",
   "execution_count": null,
   "id": "42215146-2436-4c1f-9d9d-6c09614474ed",
   "metadata": {},
   "outputs": [],
   "source": [
    "4.Drop duplicate rows_if any"
   ]
  },
  {
   "cell_type": "code",
   "execution_count": 30,
   "id": "acdbeda7-f25b-4f76-9d3f-262af6b38158",
   "metadata": {},
   "outputs": [
    {
     "name": "stdout",
     "output_type": "stream",
     "text": [
      "                 Model  Sales in thousands 4-year resale value Vehicle type  \\\n",
      "0    Integra                        16.919               16.36    Passenger   \n",
      "1    TL                             39.384              19.875    Passenger   \n",
      "2    CL                             14.114              18.225    Passenger   \n",
      "3    RL                              8.588              29.725    Passenger   \n",
      "4    A4                             20.397              22.255    Passenger   \n",
      "..                 ...                 ...                 ...          ...   \n",
      "152  V40                             3.545                   .    Passenger   \n",
      "153  S70                            15.245                   .    Passenger   \n",
      "154  V70                            17.531                   .    Passenger   \n",
      "155  C70                             3.493                   .    Passenger   \n",
      "156  S80                            18.969                   .    Passenger   \n",
      "\n",
      "    Price in thousands Engine size Horsepower Wheelbase Width Length  \\\n",
      "0                 21.5         1.8        140     101.2  67.3  172.4   \n",
      "1                 28.4         3.2        225     108.1  70.3  192.9   \n",
      "2                    .         3.2        225     106.9  70.6    192   \n",
      "3                   42         3.5        210     114.6  71.4  196.6   \n",
      "4                23.99         1.8        150     102.6  68.2    178   \n",
      "..                 ...         ...        ...       ...   ...    ...   \n",
      "152               24.4         1.9        160     100.5  67.6  176.6   \n",
      "153               27.5         2.4        168     104.9  69.3  185.9   \n",
      "154               28.8         2.4        168     104.9  69.3  186.2   \n",
      "155               45.5         2.3        236     104.9  71.5  185.7   \n",
      "156                 36         2.9        201     109.9  72.1  189.8   \n",
      "\n",
      "    Curb weight Fuel capacity Fuel efficiency Latest Launch  \n",
      "0         2.639          13.2              28      2-Feb-14  \n",
      "1         3.517          17.2              25      6-Mar-15  \n",
      "2          3.47          17.2              26      1-Apr-14  \n",
      "3          3.85            18              22      3-Oct-15  \n",
      "4         2.998          16.4              27     10-Aug-15  \n",
      "..          ...           ...             ...           ...  \n",
      "152       3.042          15.8              25     21-Sep-15  \n",
      "153       3.208          17.9              25     24-Nov-14  \n",
      "154       3.259          17.9              25     25-Jun-15  \n",
      "155       3.601          18.5              23     26-Apr-15  \n",
      "156         3.6          21.1              24     14-Nov-15  \n",
      "\n",
      "[157 rows x 14 columns]\n"
     ]
    }
   ],
   "source": [
    "print(df.drop_duplicates())"
   ]
  },
  {
   "cell_type": "code",
   "execution_count": null,
   "id": "a478487f-7a24-46a0-ab7d-b24b8b13fc60",
   "metadata": {},
   "outputs": [],
   "source": [
    "5. Print number of rows and columns after dropping\n",
    "duplicates"
   ]
  },
  {
   "cell_type": "code",
   "execution_count": 31,
   "id": "6c6e47ce-96d4-469a-afb6-aeeafea98c64",
   "metadata": {},
   "outputs": [
    {
     "name": "stdout",
     "output_type": "stream",
     "text": [
      "(157, 14)\n"
     ]
    }
   ],
   "source": [
    "print(df.shape)"
   ]
  },
  {
   "cell_type": "code",
   "execution_count": null,
   "id": "e13a8484-4915-4e9c-ac73-6d92f24cde00",
   "metadata": {},
   "outputs": [],
   "source": [
    "6. Print summary statistics for numerical variables"
   ]
  },
  {
   "cell_type": "code",
   "execution_count": 34,
   "id": "f7ea5810-f708-4063-9921-14f67dd84ae2",
   "metadata": {},
   "outputs": [
    {
     "name": "stdout",
     "output_type": "stream",
     "text": [
      "       Sales in thousands\n",
      "count          157.000000\n",
      "mean            52.998076\n",
      "std             68.029422\n",
      "min              0.110000\n",
      "25%             14.114000\n",
      "50%             29.450000\n",
      "75%             67.956000\n",
      "max            540.561000\n"
     ]
    }
   ],
   "source": [
    "print(df.describe())"
   ]
  },
  {
   "cell_type": "code",
   "execution_count": 26,
   "id": "56eb372a-a7d9-48c5-a4af-c6ee092d9250",
   "metadata": {},
   "outputs": [],
   "source": [
    "most_miss=df.isnull().sum().idxmax()\n",
    "df = df.drop(columns=most_miss)"
   ]
  },
  {
   "cell_type": "code",
   "execution_count": 24,
   "id": "1e4b8ea9-0193-4249-ab19-3bfde0e60557",
   "metadata": {},
   "outputs": [
    {
     "name": "stdout",
     "output_type": "stream",
     "text": [
      "<bound method DataFrame.info of       Manufacturer              Model  Sales in thousands 4-year resale value  \\\n",
      "0    Acura          Integra                        16.919               16.36   \n",
      "1    Acura          TL                             39.384              19.875   \n",
      "2    Acura          CL                             14.114              18.225   \n",
      "3    Acura          RL                              8.588              29.725   \n",
      "4    Audi           A4                             20.397              22.255   \n",
      "..             ...                ...                 ...                 ...   \n",
      "152  Volvo          V40                             3.545                   .   \n",
      "153  Volvo          S70                            15.245                   .   \n",
      "154  Volvo          V70                            17.531                   .   \n",
      "155  Volvo          C70                             3.493                   .   \n",
      "156  Volvo          S80                            18.969                   .   \n",
      "\n",
      "    Vehicle type Price in thousands Engine size Horsepower Wheelbase Width  \\\n",
      "0      Passenger               21.5         1.8        140     101.2  67.3   \n",
      "1      Passenger               28.4         3.2        225     108.1  70.3   \n",
      "2      Passenger                  .         3.2        225     106.9  70.6   \n",
      "3      Passenger                 42         3.5        210     114.6  71.4   \n",
      "4      Passenger              23.99         1.8        150     102.6  68.2   \n",
      "..           ...                ...         ...        ...       ...   ...   \n",
      "152    Passenger               24.4         1.9        160     100.5  67.6   \n",
      "153    Passenger               27.5         2.4        168     104.9  69.3   \n",
      "154    Passenger               28.8         2.4        168     104.9  69.3   \n",
      "155    Passenger               45.5         2.3        236     104.9  71.5   \n",
      "156    Passenger                 36         2.9        201     109.9  72.1   \n",
      "\n",
      "    Length Curb weight Fuel capacity Fuel efficiency Latest Launch  \n",
      "0    172.4       2.639          13.2              28      2-Feb-14  \n",
      "1    192.9       3.517          17.2              25      6-Mar-15  \n",
      "2      192        3.47          17.2              26      1-Apr-14  \n",
      "3    196.6        3.85            18              22      3-Oct-15  \n",
      "4      178       2.998          16.4              27     10-Aug-15  \n",
      "..     ...         ...           ...             ...           ...  \n",
      "152  176.6       3.042          15.8              25     21-Sep-15  \n",
      "153  185.9       3.208          17.9              25     24-Nov-14  \n",
      "154  186.2       3.259          17.9              25     25-Jun-15  \n",
      "155  185.7       3.601          18.5              23     26-Apr-15  \n",
      "156  189.8         3.6          21.1              24     14-Nov-15  \n",
      "\n",
      "[157 rows x 15 columns]>\n"
     ]
    }
   ],
   "source": [
    "print(df.info)"
   ]
  },
  {
   "cell_type": "code",
   "execution_count": 27,
   "id": "c9d018b9-d843-4288-96a7-6261a47a8ac6",
   "metadata": {},
   "outputs": [
    {
     "name": "stdout",
     "output_type": "stream",
     "text": [
      "(157, 14)\n"
     ]
    }
   ],
   "source": [
    "print(df.shape)"
   ]
  },
  {
   "cell_type": "code",
   "execution_count": 29,
   "id": "9d981446-a032-42da-a921-223a782977b0",
   "metadata": {},
   "outputs": [
    {
     "name": "stdout",
     "output_type": "stream",
     "text": [
      "<class 'pandas.core.frame.DataFrame'>\n",
      "RangeIndex: 157 entries, 0 to 156\n",
      "Data columns (total 14 columns):\n",
      " #   Column               Non-Null Count  Dtype  \n",
      "---  ------               --------------  -----  \n",
      " 0   Model                157 non-null    object \n",
      " 1   Sales in thousands   157 non-null    float64\n",
      " 2   4-year resale value  157 non-null    object \n",
      " 3   Vehicle type         157 non-null    object \n",
      " 4   Price in thousands   157 non-null    object \n",
      " 5   Engine size          157 non-null    object \n",
      " 6   Horsepower           157 non-null    object \n",
      " 7   Wheelbase            157 non-null    object \n",
      " 8   Width                157 non-null    object \n",
      " 9   Length               157 non-null    object \n",
      " 10  Curb weight          157 non-null    object \n",
      " 11  Fuel capacity        157 non-null    object \n",
      " 12  Fuel efficiency      157 non-null    object \n",
      " 13  Latest Launch        157 non-null    object \n",
      "dtypes: float64(1), object(13)\n",
      "memory usage: 17.3+ KB\n",
      "None\n"
     ]
    }
   ],
   "source": [
    "\n",
    "print(df.info())"
   ]
  },
  {
   "cell_type": "code",
   "execution_count": null,
   "id": "f4e1ee6c-3493-41f5-8402-d99e6c7a7445",
   "metadata": {},
   "outputs": [],
   "source": [
    "9. Drop the rows with categorical missing values"
   ]
  },
  {
   "cell_type": "code",
   "execution_count": 38,
   "id": "536358e2-312a-4a7c-9639-9fcff1b4aea1",
   "metadata": {},
   "outputs": [
    {
     "name": "stdout",
     "output_type": "stream",
     "text": [
      "None\n"
     ]
    }
   ],
   "source": [
    "print(df[\"Sales in thousands\"].fillna(df[\"Sales in thousands\"].mean(),inplace=True))"
   ]
  },
  {
   "cell_type": "code",
   "execution_count": null,
   "id": "0049e98d-18ce-4b0d-915c-3baa6c23bd07",
   "metadata": {},
   "outputs": [],
   "source": [
    "12.Write a function to find min and max values of any\n",
    "column"
   ]
  },
  {
   "cell_type": "code",
   "execution_count": 43,
   "id": "727aa89c-910e-46d7-936e-a7b6411b960b",
   "metadata": {},
   "outputs": [
    {
     "name": "stdout",
     "output_type": "stream",
     "text": [
      "0.11\n",
      "540.561\n"
     ]
    }
   ],
   "source": [
    "min_val=df[\"Sales in thousands\"].min()\n",
    "print(min_val)\n",
    "max_val=df[\"Sales in thousands\"].max()\n",
    "print(max_val)"
   ]
  },
  {
   "cell_type": "code",
   "execution_count": 44,
   "id": "3ac920e2-a9c5-4566-bec3-a5872b59c555",
   "metadata": {},
   "outputs": [
    {
     "name": "stdout",
     "output_type": "stream",
     "text": [
      "Model                   0\n",
      "Sales in thousands      0\n",
      "4-year resale value    36\n",
      "Vehicle type            0\n",
      "Price in thousands      2\n",
      "Engine size             1\n",
      "Horsepower              1\n",
      "Wheelbase               1\n",
      "Width                   1\n",
      "Length                  1\n",
      "Curb weight             2\n",
      "Fuel capacity           1\n",
      "Fuel efficiency         3\n",
      "Latest Launch           0\n",
      "dtype: int64\n"
     ]
    }
   ],
   "source": []
  },
  {
   "cell_type": "code",
   "execution_count": 45,
   "id": "ad3816f2-51e1-4df8-9021-88a41f04c1a5",
   "metadata": {},
   "outputs": [
    {
     "name": "stdout",
     "output_type": "stream",
     "text": [
      "Model                   0\n",
      "Sales in thousands      0\n",
      "4-year resale value    36\n",
      "Vehicle type            0\n",
      "Price in thousands      2\n",
      "Engine size             1\n",
      "Horsepower              1\n",
      "Wheelbase               1\n",
      "Width                   1\n",
      "Length                  1\n",
      "Curb weight             2\n",
      "Fuel capacity           1\n",
      "Fuel efficiency         3\n",
      "Latest Launch           0\n",
      "dtype: int64\n"
     ]
    }
   ],
   "source": [
    "print(df.isnull().sum())"
   ]
  },
  {
   "cell_type": "code",
   "execution_count": 46,
   "id": "db14c7e0-25c8-48d5-b3d6-3d1075f4056b",
   "metadata": {},
   "outputs": [
    {
     "name": "stdout",
     "output_type": "stream",
     "text": [
      "<bound method NDFrame.head of       Manufacturer              Model  Sales in thousands 4-year resale value  \\\n",
      "0    Acura          Integra                        16.919               16.36   \n",
      "1    Acura          TL                             39.384              19.875   \n",
      "2    Acura          CL                             14.114              18.225   \n",
      "3    Acura          RL                              8.588              29.725   \n",
      "4    Audi           A4                             20.397              22.255   \n",
      "..             ...                ...                 ...                 ...   \n",
      "152  Volvo          V40                             3.545                   .   \n",
      "153  Volvo          S70                            15.245                   .   \n",
      "154  Volvo          V70                            17.531                   .   \n",
      "155  Volvo          C70                             3.493                   .   \n",
      "156  Volvo          S80                            18.969                   .   \n",
      "\n",
      "    Vehicle type Price in thousands Engine size Horsepower Wheelbase Width  \\\n",
      "0      Passenger               21.5         1.8        140     101.2  67.3   \n",
      "1      Passenger               28.4         3.2        225     108.1  70.3   \n",
      "2      Passenger                  .         3.2        225     106.9  70.6   \n",
      "3      Passenger                 42         3.5        210     114.6  71.4   \n",
      "4      Passenger              23.99         1.8        150     102.6  68.2   \n",
      "..           ...                ...         ...        ...       ...   ...   \n",
      "152    Passenger               24.4         1.9        160     100.5  67.6   \n",
      "153    Passenger               27.5         2.4        168     104.9  69.3   \n",
      "154    Passenger               28.8         2.4        168     104.9  69.3   \n",
      "155    Passenger               45.5         2.3        236     104.9  71.5   \n",
      "156    Passenger                 36         2.9        201     109.9  72.1   \n",
      "\n",
      "    Length Curb weight Fuel capacity Fuel efficiency Latest Launch  \n",
      "0    172.4       2.639          13.2              28      2-Feb-14  \n",
      "1    192.9       3.517          17.2              25      6-Mar-15  \n",
      "2      192        3.47          17.2              26      1-Apr-14  \n",
      "3    196.6        3.85            18              22      3-Oct-15  \n",
      "4      178       2.998          16.4              27     10-Aug-15  \n",
      "..     ...         ...           ...             ...           ...  \n",
      "152  176.6       3.042          15.8              25     21-Sep-15  \n",
      "153  185.9       3.208          17.9              25     24-Nov-14  \n",
      "154  186.2       3.259          17.9              25     25-Jun-15  \n",
      "155  185.7       3.601          18.5              23     26-Apr-15  \n",
      "156  189.8         3.6          21.1              24     14-Nov-15  \n",
      "\n",
      "[157 rows x 15 columns]>\n"
     ]
    }
   ],
   "source": [
    "df=pd.read_csv(\"Car_sales.csv\")\n",
    "print(df.head)"
   ]
  },
  {
   "cell_type": "code",
   "execution_count": 47,
   "id": "53d06819-5d40-416f-8510-bfd752045449",
   "metadata": {},
   "outputs": [
    {
     "name": "stdout",
     "output_type": "stream",
     "text": [
      "Manufacturer           0\n",
      "Model                  0\n",
      "Sales in thousands     0\n",
      "4-year resale value    0\n",
      "Vehicle type           0\n",
      "Price in thousands     0\n",
      "Engine size            0\n",
      "Horsepower             0\n",
      "Wheelbase              0\n",
      "Width                  0\n",
      "Length                 0\n",
      "Curb weight            0\n",
      "Fuel capacity          0\n",
      "Fuel efficiency        0\n",
      "Latest Launch          0\n",
      "dtype: int64\n"
     ]
    }
   ],
   "source": [
    "print(df.isnull().sum())"
   ]
  },
  {
   "cell_type": "code",
   "execution_count": 48,
   "id": "179996f3-adf9-4496-8e82-ce8a4448b3e2",
   "metadata": {},
   "outputs": [
    {
     "name": "stdout",
     "output_type": "stream",
     "text": [
      "Manufacturer            0\n",
      "Model                   0\n",
      "Sales in thousands      0\n",
      "4-year resale value    36\n",
      "Vehicle type            0\n",
      "Price in thousands      2\n",
      "Engine size             1\n",
      "Horsepower              1\n",
      "Wheelbase               1\n",
      "Width                   1\n",
      "Length                  1\n",
      "Curb weight             2\n",
      "Fuel capacity           1\n",
      "Fuel efficiency         3\n",
      "Latest Launch           0\n",
      "dtype: int64\n"
     ]
    }
   ],
   "source": [
    "import numpy as np\n",
    "df=df.replace('.',np.nan)\n",
    "print(df.isnull().sum())"
   ]
  },
  {
   "cell_type": "code",
   "execution_count": null,
   "id": "07daf673-e5b6-4317-8b00-3a23feee4e70",
   "metadata": {},
   "outputs": [],
   "source": [
    "3. Print number of rows and columns"
   ]
  },
  {
   "cell_type": "code",
   "execution_count": 49,
   "id": "dc265435-2f09-4a2a-b8cc-98cb69485938",
   "metadata": {},
   "outputs": [
    {
     "name": "stdout",
     "output_type": "stream",
     "text": [
      "      Manufacturer              Model  Sales in thousands 4-year resale value  \\\n",
      "0    Acura          Integra                        16.919               16.36   \n",
      "1    Acura          TL                             39.384              19.875   \n",
      "2    Acura          CL                             14.114              18.225   \n",
      "3    Acura          RL                              8.588              29.725   \n",
      "4    Audi           A4                             20.397              22.255   \n",
      "..             ...                ...                 ...                 ...   \n",
      "152  Volvo          V40                             3.545                 NaN   \n",
      "153  Volvo          S70                            15.245                 NaN   \n",
      "154  Volvo          V70                            17.531                 NaN   \n",
      "155  Volvo          C70                             3.493                 NaN   \n",
      "156  Volvo          S80                            18.969                 NaN   \n",
      "\n",
      "    Vehicle type Price in thousands Engine size Horsepower Wheelbase Width  \\\n",
      "0      Passenger               21.5         1.8        140     101.2  67.3   \n",
      "1      Passenger               28.4         3.2        225     108.1  70.3   \n",
      "2      Passenger                NaN         3.2        225     106.9  70.6   \n",
      "3      Passenger                 42         3.5        210     114.6  71.4   \n",
      "4      Passenger              23.99         1.8        150     102.6  68.2   \n",
      "..           ...                ...         ...        ...       ...   ...   \n",
      "152    Passenger               24.4         1.9        160     100.5  67.6   \n",
      "153    Passenger               27.5         2.4        168     104.9  69.3   \n",
      "154    Passenger               28.8         2.4        168     104.9  69.3   \n",
      "155    Passenger               45.5         2.3        236     104.9  71.5   \n",
      "156    Passenger                 36         2.9        201     109.9  72.1   \n",
      "\n",
      "    Length Curb weight Fuel capacity Fuel efficiency Latest Launch  \n",
      "0    172.4       2.639          13.2              28      2-Feb-14  \n",
      "1    192.9       3.517          17.2              25      6-Mar-15  \n",
      "2      192        3.47          17.2              26      1-Apr-14  \n",
      "3    196.6        3.85            18              22      3-Oct-15  \n",
      "4      178       2.998          16.4              27     10-Aug-15  \n",
      "..     ...         ...           ...             ...           ...  \n",
      "152  176.6       3.042          15.8              25     21-Sep-15  \n",
      "153  185.9       3.208          17.9              25     24-Nov-14  \n",
      "154  186.2       3.259          17.9              25     25-Jun-15  \n",
      "155  185.7       3.601          18.5              23     26-Apr-15  \n",
      "156  189.8         3.6          21.1              24     14-Nov-15  \n",
      "\n",
      "[157 rows x 15 columns]\n"
     ]
    }
   ],
   "source": [
    "print(df.drop_duplicates())"
   ]
  },
  {
   "cell_type": "code",
   "execution_count": null,
   "id": "2379c75b-af00-4c52-985a-9b050662c3f7",
   "metadata": {},
   "outputs": [],
   "source": [
    "5. Print number of rows and columns after dropping\n",
    "duplicates"
   ]
  },
  {
   "cell_type": "code",
   "execution_count": 50,
   "id": "ca2450cc-a069-461c-b7af-ac2919728737",
   "metadata": {},
   "outputs": [
    {
     "data": {
      "text/plain": [
       "(157, 15)"
      ]
     },
     "execution_count": 50,
     "metadata": {},
     "output_type": "execute_result"
    }
   ],
   "source": [
    "df.shape"
   ]
  },
  {
   "cell_type": "code",
   "execution_count": 51,
   "id": "27ff09c1-350e-4e00-9c83-300ef8864c47",
   "metadata": {},
   "outputs": [
    {
     "data": {
      "text/plain": [
       "<bound method NDFrame.describe of       Manufacturer              Model  Sales in thousands 4-year resale value  \\\n",
       "0    Acura          Integra                        16.919               16.36   \n",
       "1    Acura          TL                             39.384              19.875   \n",
       "2    Acura          CL                             14.114              18.225   \n",
       "3    Acura          RL                              8.588              29.725   \n",
       "4    Audi           A4                             20.397              22.255   \n",
       "..             ...                ...                 ...                 ...   \n",
       "152  Volvo          V40                             3.545                 NaN   \n",
       "153  Volvo          S70                            15.245                 NaN   \n",
       "154  Volvo          V70                            17.531                 NaN   \n",
       "155  Volvo          C70                             3.493                 NaN   \n",
       "156  Volvo          S80                            18.969                 NaN   \n",
       "\n",
       "    Vehicle type Price in thousands Engine size Horsepower Wheelbase Width  \\\n",
       "0      Passenger               21.5         1.8        140     101.2  67.3   \n",
       "1      Passenger               28.4         3.2        225     108.1  70.3   \n",
       "2      Passenger                NaN         3.2        225     106.9  70.6   \n",
       "3      Passenger                 42         3.5        210     114.6  71.4   \n",
       "4      Passenger              23.99         1.8        150     102.6  68.2   \n",
       "..           ...                ...         ...        ...       ...   ...   \n",
       "152    Passenger               24.4         1.9        160     100.5  67.6   \n",
       "153    Passenger               27.5         2.4        168     104.9  69.3   \n",
       "154    Passenger               28.8         2.4        168     104.9  69.3   \n",
       "155    Passenger               45.5         2.3        236     104.9  71.5   \n",
       "156    Passenger                 36         2.9        201     109.9  72.1   \n",
       "\n",
       "    Length Curb weight Fuel capacity Fuel efficiency Latest Launch  \n",
       "0    172.4       2.639          13.2              28      2-Feb-14  \n",
       "1    192.9       3.517          17.2              25      6-Mar-15  \n",
       "2      192        3.47          17.2              26      1-Apr-14  \n",
       "3    196.6        3.85            18              22      3-Oct-15  \n",
       "4      178       2.998          16.4              27     10-Aug-15  \n",
       "..     ...         ...           ...             ...           ...  \n",
       "152  176.6       3.042          15.8              25     21-Sep-15  \n",
       "153  185.9       3.208          17.9              25     24-Nov-14  \n",
       "154  186.2       3.259          17.9              25     25-Jun-15  \n",
       "155  185.7       3.601          18.5              23     26-Apr-15  \n",
       "156  189.8         3.6          21.1              24     14-Nov-15  \n",
       "\n",
       "[157 rows x 15 columns]>"
      ]
     },
     "execution_count": 51,
     "metadata": {},
     "output_type": "execute_result"
    }
   ],
   "source": [
    "df.describe"
   ]
  },
  {
   "cell_type": "code",
   "execution_count": null,
   "id": "8c6b89da-ad10-4915-91a8-956a4e842883",
   "metadata": {},
   "outputs": [],
   "source": [
    "7. Print number of missing values in each column"
   ]
  },
  {
   "cell_type": "code",
   "execution_count": 52,
   "id": "327eef81-0aef-47a2-a43d-8e95754aca31",
   "metadata": {},
   "outputs": [
    {
     "name": "stdout",
     "output_type": "stream",
     "text": [
      "Manufacturer            0\n",
      "Model                   0\n",
      "Sales in thousands      0\n",
      "4-year resale value    36\n",
      "Vehicle type            0\n",
      "Price in thousands      2\n",
      "Engine size             1\n",
      "Horsepower              1\n",
      "Wheelbase               1\n",
      "Width                   1\n",
      "Length                  1\n",
      "Curb weight             2\n",
      "Fuel capacity           1\n",
      "Fuel efficiency         3\n",
      "Latest Launch           0\n",
      "dtype: int64\n"
     ]
    }
   ],
   "source": [
    "print(df.isnull().sum())"
   ]
  },
  {
   "cell_type": "code",
   "execution_count": null,
   "id": "90f69ba6-2db7-464a-8b47-6fd7e1a8eddf",
   "metadata": {},
   "outputs": [],
   "source": [
    "8. Drop the column with most missing values"
   ]
  },
  {
   "cell_type": "code",
   "execution_count": 56,
   "id": "1de4c805-b315-49d1-a7b8-278022cb20bd",
   "metadata": {},
   "outputs": [
    {
     "name": "stdout",
     "output_type": "stream",
     "text": [
      "4-year resale value\n",
      "Manufacturer          0\n",
      "Model                 0\n",
      "Sales in thousands    0\n",
      "Vehicle type          0\n",
      "Price in thousands    2\n",
      "Engine size           1\n",
      "Horsepower            1\n",
      "Wheelbase             1\n",
      "Width                 1\n",
      "Length                1\n",
      "Curb weight           2\n",
      "Fuel capacity         1\n",
      "Fuel efficiency       3\n",
      "Latest Launch         0\n",
      "dtype: int64\n"
     ]
    }
   ],
   "source": [
    "most_miss=df.isnull().sum().idxmax()\n",
    "print(most_miss)\n",
    "df=df.drop(columns=[most_miss])\n",
    "print(df.isnull().sum())"
   ]
  },
  {
   "cell_type": "code",
   "execution_count": 63,
   "id": "2a45c3f8-6737-4766-866b-165bb141f9b3",
   "metadata": {},
   "outputs": [
    {
     "name": "stdout",
     "output_type": "stream",
     "text": [
      "None\n"
     ]
    },
    {
     "name": "stderr",
     "output_type": "stream",
     "text": [
      "/tmp/ipykernel_8830/547930097.py:1: FutureWarning: A value is trying to be set on a copy of a DataFrame or Series through chained assignment using an inplace method.\n",
      "The behavior will change in pandas 3.0. This inplace method will never work because the intermediate object on which we are setting values always behaves as a copy.\n",
      "\n",
      "For example, when doing 'df[col].method(value, inplace=True)', try using 'df.method({col: value}, inplace=True)' or df[col] = df[col].method(value) instead, to perform the operation inplace on the original object.\n",
      "\n",
      "\n",
      "  print(df[\"Sales in thousands\"].fillna(df[\"Sales in thousands\"].mean(),inplace=True))\n"
     ]
    }
   ],
   "source": [
    "print(df[\"Sales in thousands\"].fillna(df[\"Sales in thousands\"].mean(),inplace=True))"
   ]
  },
  {
   "cell_type": "code",
   "execution_count": 66,
   "id": "6a9d3f2b-f9b2-4fdc-8f75-5bb92f98f8b2",
   "metadata": {},
   "outputs": [
    {
     "name": "stdout",
     "output_type": "stream",
     "text": [
      "<class 'pandas.core.frame.DataFrame'>\n",
      "RangeIndex: 157 entries, 0 to 156\n",
      "Data columns (total 14 columns):\n",
      " #   Column              Non-Null Count  Dtype  \n",
      "---  ------              --------------  -----  \n",
      " 0   Manufacturer        157 non-null    object \n",
      " 1   Model               157 non-null    object \n",
      " 2   Sales in thousands  157 non-null    float64\n",
      " 3   Vehicle type        157 non-null    object \n",
      " 4   Price in thousands  155 non-null    object \n",
      " 5   Engine size         156 non-null    object \n",
      " 6   Horsepower          156 non-null    object \n",
      " 7   Wheelbase           156 non-null    object \n",
      " 8   Width               156 non-null    object \n",
      " 9   Length              156 non-null    object \n",
      " 10  Curb weight         155 non-null    object \n",
      " 11  Fuel capacity       156 non-null    object \n",
      " 12  Fuel efficiency     154 non-null    object \n",
      " 13  Latest Launch       157 non-null    object \n",
      "dtypes: float64(1), object(13)\n",
      "memory usage: 17.3+ KB\n"
     ]
    }
   ],
   "source": [
    "df.info()"
   ]
  },
  {
   "cell_type": "code",
   "execution_count": 67,
   "id": "fe938504-ee5b-4fbc-b6e2-7bc4e85c73a7",
   "metadata": {},
   "outputs": [],
   "source": [
    "df=df[\"Price in thousands\"].astype('float64')"
   ]
  },
  {
   "cell_type": "code",
   "execution_count": 68,
   "id": "b17a3fd0-bb73-492b-89cf-69e4ee8944dd",
   "metadata": {},
   "outputs": [
    {
     "name": "stdout",
     "output_type": "stream",
     "text": [
      "<class 'pandas.core.series.Series'>\n",
      "RangeIndex: 157 entries, 0 to 156\n",
      "Series name: Price in thousands\n",
      "Non-Null Count  Dtype  \n",
      "--------------  -----  \n",
      "155 non-null    float64\n",
      "dtypes: float64(1)\n",
      "memory usage: 1.4 KB\n"
     ]
    }
   ],
   "source": [
    "df.info()"
   ]
  },
  {
   "cell_type": "code",
   "execution_count": 69,
   "id": "ebc5d789-8735-4ed9-a5e8-3b551e4c70ec",
   "metadata": {},
   "outputs": [
    {
     "name": "stdout",
     "output_type": "stream",
     "text": [
      "2\n"
     ]
    }
   ],
   "source": [
    "print(df.isnull().sum())"
   ]
  },
  {
   "cell_type": "code",
   "execution_count": 70,
   "id": "70c08981-149b-43b0-82d4-245b37709477",
   "metadata": {},
   "outputs": [
    {
     "name": "stdout",
     "output_type": "stream",
     "text": [
      "<bound method NDFrame.head of       Manufacturer              Model  Sales in thousands 4-year resale value  \\\n",
      "0    Acura          Integra                        16.919               16.36   \n",
      "1    Acura          TL                             39.384              19.875   \n",
      "2    Acura          CL                             14.114              18.225   \n",
      "3    Acura          RL                              8.588              29.725   \n",
      "4    Audi           A4                             20.397              22.255   \n",
      "..             ...                ...                 ...                 ...   \n",
      "152  Volvo          V40                             3.545                   .   \n",
      "153  Volvo          S70                            15.245                   .   \n",
      "154  Volvo          V70                            17.531                   .   \n",
      "155  Volvo          C70                             3.493                   .   \n",
      "156  Volvo          S80                            18.969                   .   \n",
      "\n",
      "    Vehicle type Price in thousands Engine size Horsepower Wheelbase Width  \\\n",
      "0      Passenger               21.5         1.8        140     101.2  67.3   \n",
      "1      Passenger               28.4         3.2        225     108.1  70.3   \n",
      "2      Passenger                  .         3.2        225     106.9  70.6   \n",
      "3      Passenger                 42         3.5        210     114.6  71.4   \n",
      "4      Passenger              23.99         1.8        150     102.6  68.2   \n",
      "..           ...                ...         ...        ...       ...   ...   \n",
      "152    Passenger               24.4         1.9        160     100.5  67.6   \n",
      "153    Passenger               27.5         2.4        168     104.9  69.3   \n",
      "154    Passenger               28.8         2.4        168     104.9  69.3   \n",
      "155    Passenger               45.5         2.3        236     104.9  71.5   \n",
      "156    Passenger                 36         2.9        201     109.9  72.1   \n",
      "\n",
      "    Length Curb weight Fuel capacity Fuel efficiency Latest Launch  \n",
      "0    172.4       2.639          13.2              28      2-Feb-14  \n",
      "1    192.9       3.517          17.2              25      6-Mar-15  \n",
      "2      192        3.47          17.2              26      1-Apr-14  \n",
      "3    196.6        3.85            18              22      3-Oct-15  \n",
      "4      178       2.998          16.4              27     10-Aug-15  \n",
      "..     ...         ...           ...             ...           ...  \n",
      "152  176.6       3.042          15.8              25     21-Sep-15  \n",
      "153  185.9       3.208          17.9              25     24-Nov-14  \n",
      "154  186.2       3.259          17.9              25     25-Jun-15  \n",
      "155  185.7       3.601          18.5              23     26-Apr-15  \n",
      "156  189.8         3.6          21.1              24     14-Nov-15  \n",
      "\n",
      "[157 rows x 15 columns]>\n",
      "Manufacturer            0\n",
      "Model                   0\n",
      "Sales in thousands      0\n",
      "4-year resale value    36\n",
      "Vehicle type            0\n",
      "Price in thousands      2\n",
      "Engine size             1\n",
      "Horsepower              1\n",
      "Wheelbase               1\n",
      "Width                   1\n",
      "Length                  1\n",
      "Curb weight             2\n",
      "Fuel capacity           1\n",
      "Fuel efficiency         3\n",
      "Latest Launch           0\n",
      "dtype: int64\n"
     ]
    }
   ],
   "source": [
    "df=pd.read_csv(\"Car_sales.csv\")\n",
    "print(df.head)\n",
    "import numpy as np\n",
    "df=df.replace('.',np.nan)\n",
    "print(df.isnull().sum())"
   ]
  },
  {
   "cell_type": "code",
   "execution_count": 71,
   "id": "e59a8d3b-421f-403b-89aa-66ff678ba78f",
   "metadata": {},
   "outputs": [
    {
     "name": "stdout",
     "output_type": "stream",
     "text": [
      "<class 'pandas.core.frame.DataFrame'>\n",
      "RangeIndex: 157 entries, 0 to 156\n",
      "Data columns (total 15 columns):\n",
      " #   Column               Non-Null Count  Dtype  \n",
      "---  ------               --------------  -----  \n",
      " 0   Manufacturer         157 non-null    object \n",
      " 1   Model                157 non-null    object \n",
      " 2   Sales in thousands   157 non-null    float64\n",
      " 3   4-year resale value  121 non-null    object \n",
      " 4   Vehicle type         157 non-null    object \n",
      " 5   Price in thousands   155 non-null    object \n",
      " 6   Engine size          156 non-null    object \n",
      " 7   Horsepower           156 non-null    object \n",
      " 8   Wheelbase            156 non-null    object \n",
      " 9   Width                156 non-null    object \n",
      " 10  Length               156 non-null    object \n",
      " 11  Curb weight          155 non-null    object \n",
      " 12  Fuel capacity        156 non-null    object \n",
      " 13  Fuel efficiency      154 non-null    object \n",
      " 14  Latest Launch        157 non-null    object \n",
      "dtypes: float64(1), object(14)\n",
      "memory usage: 18.5+ KB\n"
     ]
    }
   ],
   "source": [
    "df.info()"
   ]
  },
  {
   "cell_type": "code",
   "execution_count": 72,
   "id": "94d777ab-9075-41ce-918e-4c4293854f99",
   "metadata": {},
   "outputs": [],
   "source": [
    "df[\"Price in thousands\"]=df[\"Price in thousands\"].astype('float64')"
   ]
  },
  {
   "cell_type": "code",
   "execution_count": 73,
   "id": "2f2f7a47-e4ab-4fb8-92cc-e9a715458bd8",
   "metadata": {},
   "outputs": [
    {
     "name": "stdout",
     "output_type": "stream",
     "text": [
      "<class 'pandas.core.frame.DataFrame'>\n",
      "RangeIndex: 157 entries, 0 to 156\n",
      "Data columns (total 15 columns):\n",
      " #   Column               Non-Null Count  Dtype  \n",
      "---  ------               --------------  -----  \n",
      " 0   Manufacturer         157 non-null    object \n",
      " 1   Model                157 non-null    object \n",
      " 2   Sales in thousands   157 non-null    float64\n",
      " 3   4-year resale value  121 non-null    object \n",
      " 4   Vehicle type         157 non-null    object \n",
      " 5   Price in thousands   155 non-null    float64\n",
      " 6   Engine size          156 non-null    object \n",
      " 7   Horsepower           156 non-null    object \n",
      " 8   Wheelbase            156 non-null    object \n",
      " 9   Width                156 non-null    object \n",
      " 10  Length               156 non-null    object \n",
      " 11  Curb weight          155 non-null    object \n",
      " 12  Fuel capacity        156 non-null    object \n",
      " 13  Fuel efficiency      154 non-null    object \n",
      " 14  Latest Launch        157 non-null    object \n",
      "dtypes: float64(2), object(13)\n",
      "memory usage: 18.5+ KB\n"
     ]
    }
   ],
   "source": [
    "df.info()"
   ]
  },
  {
   "cell_type": "code",
   "execution_count": 78,
   "id": "122dc750-c285-45a0-96c8-9ab151cc2a8c",
   "metadata": {},
   "outputs": [
    {
     "name": "stdout",
     "output_type": "stream",
     "text": [
      "9.235 85.5\n"
     ]
    }
   ],
   "source": [
    "df.sort_values(by=\"Price in thousands\")\n",
    "mini=df[\"Price in thousands\"].min()\n",
    "maxi=df[\"Price in thousands\"].max()\n",
    "print(mini,maxi)"
   ]
  },
  {
   "cell_type": "code",
   "execution_count": 79,
   "id": "bfb65c0b-7c29-4ece-9b38-275d7d5fd319",
   "metadata": {},
   "outputs": [
    {
     "name": "stdout",
     "output_type": "stream",
     "text": [
      "Requirement already satisfied: seaborn in /home/rgukt-basar/anaconda3/lib/python3.12/site-packages (0.13.2)\n",
      "Requirement already satisfied: numpy!=1.24.0,>=1.20 in /home/rgukt-basar/anaconda3/lib/python3.12/site-packages (from seaborn) (1.26.4)\n",
      "Requirement already satisfied: pandas>=1.2 in /home/rgukt-basar/anaconda3/lib/python3.12/site-packages (from seaborn) (2.2.2)\n",
      "Requirement already satisfied: matplotlib!=3.6.1,>=3.4 in /home/rgukt-basar/anaconda3/lib/python3.12/site-packages (from seaborn) (3.9.2)\n",
      "Requirement already satisfied: contourpy>=1.0.1 in /home/rgukt-basar/anaconda3/lib/python3.12/site-packages (from matplotlib!=3.6.1,>=3.4->seaborn) (1.2.0)\n",
      "Requirement already satisfied: cycler>=0.10 in /home/rgukt-basar/anaconda3/lib/python3.12/site-packages (from matplotlib!=3.6.1,>=3.4->seaborn) (0.11.0)\n",
      "Requirement already satisfied: fonttools>=4.22.0 in /home/rgukt-basar/anaconda3/lib/python3.12/site-packages (from matplotlib!=3.6.1,>=3.4->seaborn) (4.51.0)\n",
      "Requirement already satisfied: kiwisolver>=1.3.1 in /home/rgukt-basar/anaconda3/lib/python3.12/site-packages (from matplotlib!=3.6.1,>=3.4->seaborn) (1.4.4)\n",
      "Requirement already satisfied: packaging>=20.0 in /home/rgukt-basar/anaconda3/lib/python3.12/site-packages (from matplotlib!=3.6.1,>=3.4->seaborn) (24.1)\n",
      "Requirement already satisfied: pillow>=8 in /home/rgukt-basar/anaconda3/lib/python3.12/site-packages (from matplotlib!=3.6.1,>=3.4->seaborn) (10.4.0)\n",
      "Requirement already satisfied: pyparsing>=2.3.1 in /home/rgukt-basar/anaconda3/lib/python3.12/site-packages (from matplotlib!=3.6.1,>=3.4->seaborn) (3.1.2)\n",
      "Requirement already satisfied: python-dateutil>=2.7 in /home/rgukt-basar/anaconda3/lib/python3.12/site-packages (from matplotlib!=3.6.1,>=3.4->seaborn) (2.9.0.post0)\n",
      "Requirement already satisfied: pytz>=2020.1 in /home/rgukt-basar/anaconda3/lib/python3.12/site-packages (from pandas>=1.2->seaborn) (2024.1)\n",
      "Requirement already satisfied: tzdata>=2022.7 in /home/rgukt-basar/anaconda3/lib/python3.12/site-packages (from pandas>=1.2->seaborn) (2023.3)\n",
      "Requirement already satisfied: six>=1.5 in /home/rgukt-basar/anaconda3/lib/python3.12/site-packages (from python-dateutil>=2.7->matplotlib!=3.6.1,>=3.4->seaborn) (1.16.0)\n",
      "Note: you may need to restart the kernel to use updated packages.\n"
     ]
    }
   ],
   "source": [
    "pip install seaborn\n"
   ]
  },
  {
   "cell_type": "code",
   "execution_count": 80,
   "id": "2b2c2766-fe2e-47ce-af03-1a3c01aa0d2e",
   "metadata": {},
   "outputs": [
    {
     "name": "stdout",
     "output_type": "stream",
     "text": [
      "Retrieving notices: ...working... Retrying (Retry(total=2, connect=None, read=None, redirect=None, status=None)) after connection broken by 'NameResolutionError(\"<urllib3.connection.HTTPSConnection object at 0x7bdcb5513020>: Failed to resolve 'repo.anaconda.com' ([Errno -3] Temporary failure in name resolution)\")': /pkgs/main/notices.json\n",
      "\n",
      "Retrying (Retry(total=2, connect=None, read=None, redirect=None, status=None)) after connection broken by 'NameResolutionError(\"<urllib3.connection.HTTPSConnection object at 0x7bdcb55134a0>: Failed to resolve 'repo.anaconda.com' ([Errno -3] Temporary failure in name resolution)\")': /pkgs/r/notices.json\n",
      "\n",
      "Retrying (Retry(total=2, connect=None, read=None, redirect=None, status=None)) after connection broken by 'NameResolutionError(\"<urllib3.connection.HTTPSConnection object at 0x7bdcb5513830>: Failed to resolve 'repo.anaconda.com' ([Errno -3] Temporary failure in name resolution)\")': /pkgs/r/notices.json\n",
      "\n",
      "Retrying (Retry(total=2, connect=None, read=None, redirect=None, status=None)) after connection broken by 'NameResolutionError(\"<urllib3.connection.HTTPSConnection object at 0x7bdcb5513980>: Failed to resolve 'repo.anaconda.com' ([Errno -3] Temporary failure in name resolution)\")': /pkgs/main/notices.json\n",
      "\n",
      "Retrying (Retry(total=1, connect=None, read=None, redirect=None, status=None)) after connection broken by 'NameResolutionError(\"<urllib3.connection.HTTPSConnection object at 0x7bdcb5513e90>: Failed to resolve 'repo.anaconda.com' ([Errno -3] Temporary failure in name resolution)\")': /pkgs/r/notices.json\n",
      "\n",
      "Retrying (Retry(total=1, connect=None, read=None, redirect=None, status=None)) after connection broken by 'NameResolutionError(\"<urllib3.connection.HTTPSConnection object at 0x7bdcb5513dd0>: Failed to resolve 'repo.anaconda.com' ([Errno -3] Temporary failure in name resolution)\")': /pkgs/main/notices.json\n",
      "\n",
      "Retrying (Retry(total=1, connect=None, read=None, redirect=None, status=None)) after connection broken by 'NameResolutionError(\"<urllib3.connection.HTTPSConnection object at 0x7bdcb5513f50>: Failed to resolve 'repo.anaconda.com' ([Errno -3] Temporary failure in name resolution)\")': /pkgs/r/notices.json\n",
      "\n",
      "Retrying (Retry(total=1, connect=None, read=None, redirect=None, status=None)) after connection broken by 'NameResolutionError(\"<urllib3.connection.HTTPSConnection object at 0x7bdcb5538050>: Failed to resolve 'repo.anaconda.com' ([Errno -3] Temporary failure in name resolution)\")': /pkgs/main/notices.json\n",
      "\n",
      "Retrying (Retry(total=0, connect=None, read=None, redirect=None, status=None)) after connection broken by 'NameResolutionError(\"<urllib3.connection.HTTPSConnection object at 0x7bdcb5538380>: Failed to resolve 'repo.anaconda.com' ([Errno -3] Temporary failure in name resolution)\")': /pkgs/r/notices.json\n",
      "\n",
      "ERROR conda.notices.fetch:get_channel_notice_response(73): Request error <HTTPSConnectionPool(host='repo.anaconda.com', port=443): Max retries exceeded with url: /pkgs/r/notices.json (Caused by NameResolutionError(\"<urllib3.connection.HTTPSConnection object at 0x7bdcb5538ad0>: Failed to resolve 'repo.anaconda.com' ([Errno -3] Temporary failure in name resolution)\"))> for channel: pkgs/r url: https://repo.anaconda.com/pkgs/r/notices.json\n",
      "Retrying (Retry(total=0, connect=None, read=None, redirect=None, status=None)) after connection broken by 'NameResolutionError(\"<urllib3.connection.HTTPSConnection object at 0x7bdcb55385c0>: Failed to resolve 'repo.anaconda.com' ([Errno -3] Temporary failure in name resolution)\")': /pkgs/main/notices.json\n",
      "\n",
      "Retrying (Retry(total=0, connect=None, read=None, redirect=None, status=None)) after connection broken by 'NameResolutionError(\"<urllib3.connection.HTTPSConnection object at 0x7bdcb5538800>: Failed to resolve 'repo.anaconda.com' ([Errno -3] Temporary failure in name resolution)\")': /pkgs/main/notices.json\n",
      "\n",
      "Retrying (Retry(total=0, connect=None, read=None, redirect=None, status=None)) after connection broken by 'NameResolutionError(\"<urllib3.connection.HTTPSConnection object at 0x7bdcb55386e0>: Failed to resolve 'repo.anaconda.com' ([Errno -3] Temporary failure in name resolution)\")': /pkgs/r/notices.json\n",
      "\n",
      "ERROR conda.notices.fetch:get_channel_notice_response(73): Request error <HTTPSConnectionPool(host='repo.anaconda.com', port=443): Max retries exceeded with url: /pkgs/main/notices.json (Caused by NameResolutionError(\"<urllib3.connection.HTTPSConnection object at 0x7bdcb5538d70>: Failed to resolve 'repo.anaconda.com' ([Errno -3] Temporary failure in name resolution)\"))> for channel: defaults url: https://repo.anaconda.com/pkgs/main/notices.json\n",
      "ERROR conda.notices.fetch:get_channel_notice_response(73): Request error <HTTPSConnectionPool(host='repo.anaconda.com', port=443): Max retries exceeded with url: /pkgs/main/notices.json (Caused by NameResolutionError(\"<urllib3.connection.HTTPSConnection object at 0x7bdcb5538e90>: Failed to resolve 'repo.anaconda.com' ([Errno -3] Temporary failure in name resolution)\"))> for channel: pkgs/main url: https://repo.anaconda.com/pkgs/main/notices.json\n",
      "ERROR conda.notices.fetch:get_channel_notice_response(73): Request error <HTTPSConnectionPool(host='repo.anaconda.com', port=443): Max retries exceeded with url: /pkgs/r/notices.json (Caused by NameResolutionError(\"<urllib3.connection.HTTPSConnection object at 0x7bdcb5538fb0>: Failed to resolve 'repo.anaconda.com' ([Errno -3] Temporary failure in name resolution)\"))> for channel: defaults url: https://repo.anaconda.com/pkgs/r/notices.json\n",
      "done\n",
      "Channels:\n",
      " - defaults\n",
      "Platform: linux-64\n",
      "Collecting package metadata (repodata.json): \\ Retrying (Retry(total=2, connect=None, read=None, redirect=None, status=None)) after connection broken by 'NameResolutionError(\"<urllib3.connection.HTTPSConnection object at 0x7bdcadd6b2f0>: Failed to resolve 'repo.anaconda.com' ([Errno -3] Temporary failure in name resolution)\")': /pkgs/main/noarch/repodata.json.zst\n",
      "\n",
      "Retrying (Retry(total=2, connect=None, read=None, redirect=None, status=None)) after connection broken by 'NameResolutionError(\"<urllib3.connection.HTTPSConnection object at 0x7bdcadd6a900>: Failed to resolve 'repo.anaconda.com' ([Errno -3] Temporary failure in name resolution)\")': /pkgs/r/noarch/repodata.json.zst\n",
      "\n",
      "Retrying (Retry(total=2, connect=None, read=None, redirect=None, status=None)) after connection broken by 'NameResolutionError(\"<urllib3.connection.HTTPSConnection object at 0x7bdcadd6bbf0>: Failed to resolve 'repo.anaconda.com' ([Errno -3] Temporary failure in name resolution)\")': /pkgs/r/linux-64/repodata.json.zst\n",
      "\n",
      "Retrying (Retry(total=2, connect=None, read=None, redirect=None, status=None)) after connection broken by 'NameResolutionError(\"<urllib3.connection.HTTPSConnection object at 0x7bdcadd906b0>: Failed to resolve 'repo.anaconda.com' ([Errno -3] Temporary failure in name resolution)\")': /pkgs/main/linux-64/repodata.json.zst\n",
      "\n",
      "\\ Retrying (Retry(total=1, connect=None, read=None, redirect=None, status=None)) after connection broken by 'NameResolutionError(\"<urllib3.connection.HTTPSConnection object at 0x7bdcadd6aa20>: Failed to resolve 'repo.anaconda.com' ([Errno -3] Temporary failure in name resolution)\")': /pkgs/main/noarch/repodata.json.zst\n",
      "\n",
      "Retrying (Retry(total=1, connect=None, read=None, redirect=None, status=None)) after connection broken by 'NameResolutionError(\"<urllib3.connection.HTTPSConnection object at 0x7bdcadd90800>: Failed to resolve 'repo.anaconda.com' ([Errno -3] Temporary failure in name resolution)\")': /pkgs/r/noarch/repodata.json.zst\n",
      "\n",
      "Retrying (Retry(total=1, connect=None, read=None, redirect=None, status=None)) after connection broken by 'NameResolutionError(\"<urllib3.connection.HTTPSConnection object at 0x7bdcadd90920>: Failed to resolve 'repo.anaconda.com' ([Errno -3] Temporary failure in name resolution)\")': /pkgs/r/linux-64/repodata.json.zst\n",
      "\n",
      "Retrying (Retry(total=1, connect=None, read=None, redirect=None, status=None)) after connection broken by 'NameResolutionError(\"<urllib3.connection.HTTPSConnection object at 0x7bdcadd90ad0>: Failed to resolve 'repo.anaconda.com' ([Errno -3] Temporary failure in name resolution)\")': /pkgs/main/linux-64/repodata.json.zst\n",
      "\n",
      "\\ Retrying (Retry(total=0, connect=None, read=None, redirect=None, status=None)) after connection broken by 'NameResolutionError(\"<urllib3.connection.HTTPSConnection object at 0x7bdcadd90ce0>: Failed to resolve 'repo.anaconda.com' ([Errno -3] Temporary failure in name resolution)\")': /pkgs/main/noarch/repodata.json.zst\n",
      "\n",
      "Retrying (Retry(total=0, connect=None, read=None, redirect=None, status=None)) after connection broken by 'NameResolutionError(\"<urllib3.connection.HTTPSConnection object at 0x7bdcadd90f50>: Failed to resolve 'repo.anaconda.com' ([Errno -3] Temporary failure in name resolution)\")': /pkgs/r/noarch/repodata.json.zst\n",
      "\n",
      "Retrying (Retry(total=0, connect=None, read=None, redirect=None, status=None)) after connection broken by 'NameResolutionError(\"<urllib3.connection.HTTPSConnection object at 0x7bdcadd91070>: Failed to resolve 'repo.anaconda.com' ([Errno -3] Temporary failure in name resolution)\")': /pkgs/r/linux-64/repodata.json.zst\n",
      "\n",
      "Retrying (Retry(total=0, connect=None, read=None, redirect=None, status=None)) after connection broken by 'NameResolutionError(\"<urllib3.connection.HTTPSConnection object at 0x7bdcadd91190>: Failed to resolve 'repo.anaconda.com' ([Errno -3] Temporary failure in name resolution)\")': /pkgs/main/linux-64/repodata.json.zst\n",
      "\n",
      "failed\n",
      "\n",
      "CondaHTTPError: HTTP 000 CONNECTION FAILED for url <https://repo.anaconda.com/pkgs/main/linux-64/repodata.json>\n",
      "Elapsed: -\n",
      "\n",
      "An HTTP error occurred when trying to retrieve this URL.\n",
      "HTTP errors are often intermittent, and a simple retry will get you on your way.\n",
      "\n",
      "If your current network has https://repo.anaconda.com blocked, please file\n",
      "a support request with your network engineering team.\n",
      "\n",
      "'https//repo.anaconda.com/pkgs/main/linux-64'\n",
      "\n",
      "\n",
      "\n",
      "Note: you may need to restart the kernel to use updated packages.\n"
     ]
    }
   ],
   "source": [
    "conda install seaborn"
   ]
  },
  {
   "cell_type": "code",
   "execution_count": 82,
   "id": "19e4d5e6-ed5e-4f1b-8736-f82e6dddb5b2",
   "metadata": {},
   "outputs": [
    {
     "data": {
      "text/plain": [
       "array([[<Axes: title={'center': 'Price in thousands'}>,\n",
       "        <Axes: title={'center': 'Sales in thousands'}>]], dtype=object)"
      ]
     },
     "execution_count": 82,
     "metadata": {},
     "output_type": "execute_result"
    },
    {
     "data": {
      "image/png": "[encoded data removed]",
      "text/plain": [
       "<Figure size 640x480 with 2 Axes>"
      ]
     },
     "metadata": {},
     "output_type": "display_data"
    }
   ],
   "source": [
    "df[[\"Price in thousands\",\"Sales in thousands\"]].hist()"
   ]
  },
  {
   "cell_type": "code",
   "execution_count": 84,
   "id": "3700a2a7-ecd3-47c0-aa9d-316f52c2c35c",
   "metadata": {},
   "outputs": [
    {
     "ename": "ValueError",
     "evalue": "hist method requires numerical or datetime columns, nothing to plot.",
     "output_type": "error",
     "traceback": [
      "\u001b[0;31m---------------------------------------------------------------------------\u001b[0m",
      "\u001b[0;31mValueError\u001b[0m                                Traceback (most recent call last)",
      "Cell \u001b[0;32mIn[84], line 1\u001b[0m\n\u001b[0;32m----> 1\u001b[0m df[[\u001b[38;5;124m\"\u001b[39m\u001b[38;5;124mHorsepower\u001b[39m\u001b[38;5;124m\"\u001b[39m, \u001b[38;5;124m\"\u001b[39m\u001b[38;5;124mFuel efficiency\u001b[39m\u001b[38;5;124m\"\u001b[39m]]\u001b[38;5;241m.\u001b[39mhist()\n",
      "File \u001b[0;32m~/anaconda3/lib/python3.12/site-packages/pandas/plotting/_core.py:251\u001b[0m, in \u001b[0;36mhist_frame\u001b[0;34m(data, column, by, grid, xlabelsize, xrot, ylabelsize, yrot, ax, sharex, sharey, figsize, layout, bins, backend, legend, **kwargs)\u001b[0m\n\u001b[1;32m    164\u001b[0m \u001b[38;5;250m\u001b[39m\u001b[38;5;124;03m\"\"\"\u001b[39;00m\n\u001b[1;32m    165\u001b[0m \u001b[38;5;124;03mMake a histogram of the DataFrame's columns.\u001b[39;00m\n\u001b[1;32m    166\u001b[0m \n\u001b[0;32m   (...)\u001b[0m\n\u001b[1;32m    248\u001b[0m \u001b[38;5;124;03m    >>> hist = df.hist(bins=3)\u001b[39;00m\n\u001b[1;32m    249\u001b[0m \u001b[38;5;124;03m\"\"\"\u001b[39;00m\n\u001b[1;32m    250\u001b[0m plot_backend \u001b[38;5;241m=\u001b[39m _get_plot_backend(backend)\n\u001b[0;32m--> 251\u001b[0m \u001b[38;5;28;01mreturn\u001b[39;00m plot_backend\u001b[38;5;241m.\u001b[39mhist_frame(\n\u001b[1;32m    252\u001b[0m     data,\n\u001b[1;32m    253\u001b[0m     column\u001b[38;5;241m=\u001b[39mcolumn,\n\u001b[1;32m    254\u001b[0m     by\u001b[38;5;241m=\u001b[39mby,\n\u001b[1;32m    255\u001b[0m     grid\u001b[38;5;241m=\u001b[39mgrid,\n\u001b[1;32m    256\u001b[0m     xlabelsize\u001b[38;5;241m=\u001b[39mxlabelsize,\n\u001b[1;32m    257\u001b[0m     xrot\u001b[38;5;241m=\u001b[39mxrot,\n\u001b[1;32m    258\u001b[0m     ylabelsize\u001b[38;5;241m=\u001b[39mylabelsize,\n\u001b[1;32m    259\u001b[0m     yrot\u001b[38;5;241m=\u001b[39myrot,\n\u001b[1;32m    260\u001b[0m     ax\u001b[38;5;241m=\u001b[39max,\n\u001b[1;32m    261\u001b[0m     sharex\u001b[38;5;241m=\u001b[39msharex,\n\u001b[1;32m    262\u001b[0m     sharey\u001b[38;5;241m=\u001b[39msharey,\n\u001b[1;32m    263\u001b[0m     figsize\u001b[38;5;241m=\u001b[39mfigsize,\n\u001b[1;32m    264\u001b[0m     layout\u001b[38;5;241m=\u001b[39mlayout,\n\u001b[1;32m    265\u001b[0m     legend\u001b[38;5;241m=\u001b[39mlegend,\n\u001b[1;32m    266\u001b[0m     bins\u001b[38;5;241m=\u001b[39mbins,\n\u001b[1;32m    267\u001b[0m     \u001b[38;5;241m*\u001b[39m\u001b[38;5;241m*\u001b[39mkwargs,\n\u001b[1;32m    268\u001b[0m )\n",
      "File \u001b[0;32m~/anaconda3/lib/python3.12/site-packages/pandas/plotting/_matplotlib/hist.py:549\u001b[0m, in \u001b[0;36mhist_frame\u001b[0;34m(data, column, by, grid, xlabelsize, xrot, ylabelsize, yrot, ax, sharex, sharey, figsize, layout, bins, legend, **kwds)\u001b[0m\n\u001b[1;32m    546\u001b[0m naxes \u001b[38;5;241m=\u001b[39m \u001b[38;5;28mlen\u001b[39m(data\u001b[38;5;241m.\u001b[39mcolumns)\n\u001b[1;32m    548\u001b[0m \u001b[38;5;28;01mif\u001b[39;00m naxes \u001b[38;5;241m==\u001b[39m \u001b[38;5;241m0\u001b[39m:\n\u001b[0;32m--> 549\u001b[0m     \u001b[38;5;28;01mraise\u001b[39;00m \u001b[38;5;167;01mValueError\u001b[39;00m(\n\u001b[1;32m    550\u001b[0m         \u001b[38;5;124m\"\u001b[39m\u001b[38;5;124mhist method requires numerical or datetime columns, nothing to plot.\u001b[39m\u001b[38;5;124m\"\u001b[39m\n\u001b[1;32m    551\u001b[0m     )\n\u001b[1;32m    553\u001b[0m fig, axes \u001b[38;5;241m=\u001b[39m create_subplots(\n\u001b[1;32m    554\u001b[0m     naxes\u001b[38;5;241m=\u001b[39mnaxes,\n\u001b[1;32m    555\u001b[0m     ax\u001b[38;5;241m=\u001b[39max,\n\u001b[0;32m   (...)\u001b[0m\n\u001b[1;32m    560\u001b[0m     layout\u001b[38;5;241m=\u001b[39mlayout,\n\u001b[1;32m    561\u001b[0m )\n\u001b[1;32m    562\u001b[0m _axes \u001b[38;5;241m=\u001b[39m flatten_axes(axes)\n",
      "\u001b[0;31mValueError\u001b[0m: hist method requires numerical or datetime columns, nothing to plot."
     ]
    }
   ],
   "source": [
    "df[[\"Horsepower\", \"Fuel efficiency\"]].hist()"
   ]
  },
  {
   "cell_type": "code",
   "execution_count": null,
   "id": "70552964-b0f1-4ee1-95f2-1397bda7f3ee",
   "metadata": {},
   "outputs": [],
   "source": []
  }
 ],
 "metadata": {
  "kernelspec": {
   "display_name": "Python 3 (ipykernel)",
   "language": "python",
   "name": "python3"
  },
  "language_info": {
   "codemirror_mode": {
    "name": "ipython",
    "version": 3
   },
   "file_extension": ".py",
   "mimetype": "text/x-python",
   "name": "python",
   "nbconvert_exporter": "python",
   "pygments_lexer": "ipython3",
   "version": "3.12.7"
  }
 },
 "nbformat": 4,
 "nbformat_minor": 5
}
